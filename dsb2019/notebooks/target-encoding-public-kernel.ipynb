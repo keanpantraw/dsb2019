{
 "cells": [
  {
   "cell_type": "code",
   "execution_count": 1,
   "metadata": {},
   "outputs": [],
   "source": [
    "# https://github.com/KirillTushin/target_encoding\n"
   ]
  },
  {
   "cell_type": "code",
   "execution_count": 2,
   "metadata": {
    "_cell_guid": "b1076dfc-b9ad-4769-8c92-a6c4dae69d19",
    "_uuid": "8f2839f25d086af736a60e9eeb907d3b93b6e0e5"
   },
   "outputs": [],
   "source": [
    "import os\n",
    "os.chdir('../input/target-encoding')\n",
    "from target_encoding import TargetEncoderClassifier, TargetEncoder\n",
    "os.chdir('/kaggle/working')\n",
    "\n",
    "import numpy as np\n",
    "import pandas as pd\n",
    "import lightgbm as lgb\n",
    "from sklearn.model_selection import train_test_split\n",
    "from sklearn.linear_model import LogisticRegression\n",
    "from sklearn.metrics import classification_report\n",
    "\n",
    "from sklearn.preprocessing import LabelEncoder\n",
    "from sklearn.model_selection import StratifiedKFold, cross_val_score"
   ]
  },
  {
   "cell_type": "markdown",
   "metadata": {},
   "source": [
    "# Load Data"
   ]
  },
  {
   "cell_type": "code",
   "execution_count": 3,
   "metadata": {},
   "outputs": [
    {
     "name": "stdout",
     "output_type": "stream",
     "text": [
      "CPU times: user 42.5 s, sys: 5.64 s, total: 48.1 s\n",
      "Wall time: 48.6 s\n"
     ]
    }
   ],
   "source": [
    "%%time\n",
    "# Only load those columns in order to save space\n",
    "keep_cols = ['event_id', 'game_session', 'installation_id', 'event_count', 'event_code', 'title', 'game_time', 'type', 'world']\n",
    "\n",
    "train = pd.read_csv('/kaggle/input/data-science-bowl-2019/train.csv', usecols=keep_cols)\n",
    "test = pd.read_csv('/kaggle/input/data-science-bowl-2019/test.csv', usecols=keep_cols)\n",
    "train_labels = pd.read_csv('/kaggle/input/data-science-bowl-2019/train_labels.csv')\n",
    "submission = pd.read_csv('/kaggle/input/data-science-bowl-2019/sample_submission.csv')"
   ]
  },
  {
   "cell_type": "markdown",
   "metadata": {},
   "source": [
    "# Group and Reduce"
   ]
  },
  {
   "cell_type": "code",
   "execution_count": 4,
   "metadata": {},
   "outputs": [],
   "source": [
    "def group_and_reduce(df):\n",
    "    # group1 and group2 are intermediary \"game session\" groups,\n",
    "    # which are reduced to one record by game session. group1 takes\n",
    "    # the max value of game_time (final game time in a session) and \n",
    "    # of event_count (total number of events happened in the session).\n",
    "    # group2 takes the total number of event_code of each type\n",
    "    group1 = df.drop(columns=['event_id', 'event_code']).groupby(\n",
    "        ['game_session', 'installation_id', 'title', 'type', 'world']\n",
    "    ).max().reset_index()\n",
    "\n",
    "    group2 = pd.get_dummies(\n",
    "        df[['installation_id', 'event_code']], \n",
    "        columns=['event_code']\n",
    "    ).groupby(['installation_id']).sum()\n",
    "\n",
    "    # group3, group4 and group5 are grouped by installation_id \n",
    "    # and reduced using summation and other summary stats\n",
    "    group3 = pd.get_dummies(\n",
    "        group1.drop(columns=['game_session', 'event_count', 'game_time']),\n",
    "        columns=['title', 'type', 'world']\n",
    "    ).groupby(['installation_id']).sum()\n",
    "\n",
    "    group4 = group1[\n",
    "        ['installation_id', 'event_count', 'game_time']\n",
    "    ].groupby(\n",
    "        ['installation_id']\n",
    "    ).agg([np.sum, np.mean, np.std])\n",
    "\n",
    "    return group2.join(group3).join(group4).reset_index()"
   ]
  },
  {
   "cell_type": "code",
   "execution_count": 5,
   "metadata": {},
   "outputs": [
    {
     "name": "stderr",
     "output_type": "stream",
     "text": [
      "/opt/conda/lib/python3.6/site-packages/pandas/core/reshape/merge.py:617: UserWarning: merging between different levels can give an unintended result (1 levels on the left, 2 on the right)\n",
      "  warnings.warn(msg, UserWarning)\n"
     ]
    },
    {
     "name": "stdout",
     "output_type": "stream",
     "text": [
      "(17000, 101)\n",
      "CPU times: user 19.6 s, sys: 16.1 s, total: 35.7 s\n",
      "Wall time: 34.5 s\n"
     ]
    },
    {
     "data": {
      "text/html": [
       "<div>\n",
       "<style scoped>\n",
       "    .dataframe tbody tr th:only-of-type {\n",
       "        vertical-align: middle;\n",
       "    }\n",
       "\n",
       "    .dataframe tbody tr th {\n",
       "        vertical-align: top;\n",
       "    }\n",
       "\n",
       "    .dataframe thead th {\n",
       "        text-align: right;\n",
       "    }\n",
       "</style>\n",
       "<table border=\"1\" class=\"dataframe\">\n",
       "  <thead>\n",
       "    <tr style=\"text-align: right;\">\n",
       "      <th></th>\n",
       "      <th>installation_id</th>\n",
       "      <th>event_code_2000</th>\n",
       "      <th>event_code_2010</th>\n",
       "      <th>event_code_2020</th>\n",
       "      <th>event_code_2025</th>\n",
       "      <th>event_code_2030</th>\n",
       "      <th>event_code_2035</th>\n",
       "      <th>event_code_2040</th>\n",
       "      <th>event_code_2050</th>\n",
       "      <th>event_code_2060</th>\n",
       "      <th>...</th>\n",
       "      <th>world_CRYSTALCAVES</th>\n",
       "      <th>world_MAGMAPEAK</th>\n",
       "      <th>world_NONE</th>\n",
       "      <th>world_TREETOPCITY</th>\n",
       "      <th>(event_count, sum)</th>\n",
       "      <th>(event_count, mean)</th>\n",
       "      <th>(event_count, std)</th>\n",
       "      <th>(game_time, sum)</th>\n",
       "      <th>(game_time, mean)</th>\n",
       "      <th>(game_time, std)</th>\n",
       "    </tr>\n",
       "  </thead>\n",
       "  <tbody>\n",
       "    <tr>\n",
       "      <th>0</th>\n",
       "      <td>0001e90f</td>\n",
       "      <td>10.0</td>\n",
       "      <td>0.0</td>\n",
       "      <td>61.0</td>\n",
       "      <td>0.0</td>\n",
       "      <td>60.0</td>\n",
       "      <td>0.0</td>\n",
       "      <td>15.0</td>\n",
       "      <td>15.0</td>\n",
       "      <td>1.0</td>\n",
       "      <td>...</td>\n",
       "      <td>0.0</td>\n",
       "      <td>7.0</td>\n",
       "      <td>1.0</td>\n",
       "      <td>2.0</td>\n",
       "      <td>1357</td>\n",
       "      <td>135.700000</td>\n",
       "      <td>230.198972</td>\n",
       "      <td>1172787</td>\n",
       "      <td>117278.700000</td>\n",
       "      <td>182750.896625</td>\n",
       "    </tr>\n",
       "    <tr>\n",
       "      <th>1</th>\n",
       "      <td>000447c4</td>\n",
       "      <td>5.0</td>\n",
       "      <td>0.0</td>\n",
       "      <td>3.0</td>\n",
       "      <td>0.0</td>\n",
       "      <td>3.0</td>\n",
       "      <td>0.0</td>\n",
       "      <td>0.0</td>\n",
       "      <td>0.0</td>\n",
       "      <td>1.0</td>\n",
       "      <td>...</td>\n",
       "      <td>0.0</td>\n",
       "      <td>4.0</td>\n",
       "      <td>1.0</td>\n",
       "      <td>0.0</td>\n",
       "      <td>181</td>\n",
       "      <td>36.200000</td>\n",
       "      <td>54.182100</td>\n",
       "      <td>277707</td>\n",
       "      <td>55541.400000</td>\n",
       "      <td>80311.743287</td>\n",
       "    </tr>\n",
       "    <tr>\n",
       "      <th>2</th>\n",
       "      <td>0006a69f</td>\n",
       "      <td>80.0</td>\n",
       "      <td>4.0</td>\n",
       "      <td>112.0</td>\n",
       "      <td>12.0</td>\n",
       "      <td>97.0</td>\n",
       "      <td>8.0</td>\n",
       "      <td>21.0</td>\n",
       "      <td>18.0</td>\n",
       "      <td>7.0</td>\n",
       "      <td>...</td>\n",
       "      <td>0.0</td>\n",
       "      <td>35.0</td>\n",
       "      <td>4.0</td>\n",
       "      <td>41.0</td>\n",
       "      <td>3801</td>\n",
       "      <td>47.512500</td>\n",
       "      <td>58.236531</td>\n",
       "      <td>5575453</td>\n",
       "      <td>69693.162500</td>\n",
       "      <td>177206.811293</td>\n",
       "    </tr>\n",
       "    <tr>\n",
       "      <th>3</th>\n",
       "      <td>0006c192</td>\n",
       "      <td>50.0</td>\n",
       "      <td>0.0</td>\n",
       "      <td>52.0</td>\n",
       "      <td>2.0</td>\n",
       "      <td>45.0</td>\n",
       "      <td>2.0</td>\n",
       "      <td>6.0</td>\n",
       "      <td>5.0</td>\n",
       "      <td>1.0</td>\n",
       "      <td>...</td>\n",
       "      <td>13.0</td>\n",
       "      <td>15.0</td>\n",
       "      <td>4.0</td>\n",
       "      <td>18.0</td>\n",
       "      <td>2224</td>\n",
       "      <td>44.480000</td>\n",
       "      <td>76.898619</td>\n",
       "      <td>2063664</td>\n",
       "      <td>41273.280000</td>\n",
       "      <td>82496.162713</td>\n",
       "    </tr>\n",
       "    <tr>\n",
       "      <th>4</th>\n",
       "      <td>0009a5a9</td>\n",
       "      <td>7.0</td>\n",
       "      <td>0.0</td>\n",
       "      <td>10.0</td>\n",
       "      <td>0.0</td>\n",
       "      <td>9.0</td>\n",
       "      <td>0.0</td>\n",
       "      <td>0.0</td>\n",
       "      <td>0.0</td>\n",
       "      <td>1.0</td>\n",
       "      <td>...</td>\n",
       "      <td>0.0</td>\n",
       "      <td>6.0</td>\n",
       "      <td>1.0</td>\n",
       "      <td>0.0</td>\n",
       "      <td>412</td>\n",
       "      <td>58.857143</td>\n",
       "      <td>77.962445</td>\n",
       "      <td>1854998</td>\n",
       "      <td>264999.714286</td>\n",
       "      <td>627146.960108</td>\n",
       "    </tr>\n",
       "  </tbody>\n",
       "</table>\n",
       "<p>5 rows × 101 columns</p>\n",
       "</div>"
      ],
      "text/plain": [
       "  installation_id  event_code_2000  event_code_2010  event_code_2020  \\\n",
       "0        0001e90f             10.0              0.0             61.0   \n",
       "1        000447c4              5.0              0.0              3.0   \n",
       "2        0006a69f             80.0              4.0            112.0   \n",
       "3        0006c192             50.0              0.0             52.0   \n",
       "4        0009a5a9              7.0              0.0             10.0   \n",
       "\n",
       "   event_code_2025  event_code_2030  event_code_2035  event_code_2040  \\\n",
       "0              0.0             60.0              0.0             15.0   \n",
       "1              0.0              3.0              0.0              0.0   \n",
       "2             12.0             97.0              8.0             21.0   \n",
       "3              2.0             45.0              2.0              6.0   \n",
       "4              0.0              9.0              0.0              0.0   \n",
       "\n",
       "   event_code_2050  event_code_2060  ...  world_CRYSTALCAVES  world_MAGMAPEAK  \\\n",
       "0             15.0              1.0  ...                 0.0              7.0   \n",
       "1              0.0              1.0  ...                 0.0              4.0   \n",
       "2             18.0              7.0  ...                 0.0             35.0   \n",
       "3              5.0              1.0  ...                13.0             15.0   \n",
       "4              0.0              1.0  ...                 0.0              6.0   \n",
       "\n",
       "   world_NONE  world_TREETOPCITY  (event_count, sum)  (event_count, mean)  \\\n",
       "0         1.0                2.0                1357           135.700000   \n",
       "1         1.0                0.0                 181            36.200000   \n",
       "2         4.0               41.0                3801            47.512500   \n",
       "3         4.0               18.0                2224            44.480000   \n",
       "4         1.0                0.0                 412            58.857143   \n",
       "\n",
       "   (event_count, std)  (game_time, sum)  (game_time, mean)  (game_time, std)  \n",
       "0          230.198972           1172787      117278.700000     182750.896625  \n",
       "1           54.182100            277707       55541.400000      80311.743287  \n",
       "2           58.236531           5575453       69693.162500     177206.811293  \n",
       "3           76.898619           2063664       41273.280000      82496.162713  \n",
       "4           77.962445           1854998      264999.714286     627146.960108  \n",
       "\n",
       "[5 rows x 101 columns]"
      ]
     },
     "execution_count": 5,
     "metadata": {},
     "output_type": "execute_result"
    }
   ],
   "source": [
    "%%time\n",
    "train = group_and_reduce(train)\n",
    "test = group_and_reduce(test)\n",
    "\n",
    "print(train.shape)\n",
    "train.head()"
   ]
  },
  {
   "cell_type": "markdown",
   "metadata": {},
   "source": [
    "# Training model"
   ]
  },
  {
   "cell_type": "code",
   "execution_count": 6,
   "metadata": {},
   "outputs": [],
   "source": [
    "labels = train_labels[['installation_id', 'accuracy_group']]\n",
    "train = train.merge(labels, how='left', on='installation_id').dropna()"
   ]
  },
  {
   "cell_type": "code",
   "execution_count": 7,
   "metadata": {},
   "outputs": [],
   "source": [
    "x_train, x_val, y_train, y_val = train_test_split(\n",
    "    train.drop(['installation_id', 'accuracy_group'], axis=1),\n",
    "    train['accuracy_group'],\n",
    "    test_size=0.15,\n",
    "    random_state=2019,\n",
    ")"
   ]
  },
  {
   "cell_type": "code",
   "execution_count": 8,
   "metadata": {},
   "outputs": [],
   "source": [
    "len_uniques = []\n",
    "train_labeled = train.fillna(-999)\n",
    "test_labeled = test.fillna(-999)\n",
    "\n",
    "for c in train.columns.drop(['installation_id', 'accuracy_group']):\n",
    "    le = LabelEncoder()\n",
    "    le.fit(pd.concat([train_labeled[c], test_labeled[c]])) \n",
    "    train_labeled[c] = le.transform(train_labeled[c])\n",
    "    test_labeled[c] = le.transform(test_labeled[c])\n",
    "    len_uniques.append(len(le.classes_))\n",
    "\n",
    "x_train_labeled, x_val_labeled = train_test_split(\n",
    "    train_labeled.drop(['installation_id', 'accuracy_group'], axis=1),\n",
    "    test_size=0.15,\n",
    "    random_state=2019,\n",
    ")"
   ]
  },
  {
   "cell_type": "code",
   "execution_count": 9,
   "metadata": {},
   "outputs": [],
   "source": [
    "ALPHA = 10\n",
    "MAX_UNIQUE = 50\n",
    "cv = StratifiedKFold(n_splits=5, shuffle=True, random_state=42)\n",
    "\n",
    "\n"
   ]
  },
  {
   "cell_type": "code",
   "execution_count": 10,
   "metadata": {},
   "outputs": [],
   "source": [
    "'''\n",
    "split: list of int or cross-validator class,\n",
    "            if split is [], then algorithm will encode features without cross-validation\n",
    "            This situation features will overfit on target\n",
    "\n",
    "            if split len is 1 for example [5], algorithm will encode features by using cross-validation on 5 folds\n",
    "            This situation you will not overfit on tests, but when you will validate, your score will overfit\n",
    "\n",
    "            if split len is 2 for example [5, 3], algorithm will separate data on 5 folds, afterwords\n",
    "            will encode features by using cross-validation on 3 folds\n",
    "            This situation is the best way to avoid overfit, but algorithm will use small data for encode.\n",
    "'''\n",
    "\n",
    "\n",
    "enc = TargetEncoder(alpha=ALPHA, max_unique=MAX_UNIQUE, split=[cv])\n",
    "x_train_encoded = enc.transform_train(x_train_labeled, y=y_train)\n",
    "x_val_encoded = enc.transform_test(x_val_labeled)\n",
    "x_test_encoded = enc.transform_test(test.drop(['installation_id'], axis=1))\n",
    "\n",
    "x_train_encoded = pd.DataFrame(x_train_encoded)\n",
    "x_val_encoded = pd.DataFrame(x_val_encoded)\n",
    "x_test_encoded = pd.DataFrame(x_test_encoded)"
   ]
  },
  {
   "cell_type": "code",
   "execution_count": 11,
   "metadata": {},
   "outputs": [],
   "source": [
    "x_train_all = pd.concat([x_train.reset_index(drop=True), x_train_encoded], axis=1)\n",
    "x_val_all = pd.concat([x_val.reset_index(drop=True), x_val_encoded], axis=1)\n",
    "x_test_all = pd.concat([test.drop(['installation_id'], axis=1), x_test_encoded], axis=1)"
   ]
  },
  {
   "cell_type": "code",
   "execution_count": 12,
   "metadata": {},
   "outputs": [
    {
     "name": "stdout",
     "output_type": "stream",
     "text": [
      "Training until validation scores don't improve for 300 rounds\n",
      "[100]\ttraining's multi_logloss: 1.11112\tvalid_1's multi_logloss: 1.10567\n",
      "[200]\ttraining's multi_logloss: 1.06181\tvalid_1's multi_logloss: 1.06993\n",
      "[300]\ttraining's multi_logloss: 1.03084\tvalid_1's multi_logloss: 1.05175\n",
      "[400]\ttraining's multi_logloss: 1.00849\tvalid_1's multi_logloss: 1.04202\n",
      "[500]\ttraining's multi_logloss: 0.990293\tvalid_1's multi_logloss: 1.03714\n",
      "[600]\ttraining's multi_logloss: 0.974725\tvalid_1's multi_logloss: 1.03493\n",
      "[700]\ttraining's multi_logloss: 0.960712\tvalid_1's multi_logloss: 1.03386\n",
      "[800]\ttraining's multi_logloss: 0.947742\tvalid_1's multi_logloss: 1.0333\n",
      "[900]\ttraining's multi_logloss: 0.935601\tvalid_1's multi_logloss: 1.03289\n",
      "[1000]\ttraining's multi_logloss: 0.924091\tvalid_1's multi_logloss: 1.03284\n",
      "[1100]\ttraining's multi_logloss: 0.913208\tvalid_1's multi_logloss: 1.03277\n",
      "[1200]\ttraining's multi_logloss: 0.90281\tvalid_1's multi_logloss: 1.03312\n",
      "[1300]\ttraining's multi_logloss: 0.892913\tvalid_1's multi_logloss: 1.03336\n",
      "Early stopping, best iteration is:\n",
      "[1066]\ttraining's multi_logloss: 0.916806\tvalid_1's multi_logloss: 1.03268\n"
     ]
    }
   ],
   "source": [
    "train_set = lgb.Dataset(x_train_all, y_train)\n",
    "val_set = lgb.Dataset(x_val_all, y_val)\n",
    "\n",
    "params = {\n",
    "    'learning_rate': 0.01,\n",
    "    'bagging_fraction': 0.9,\n",
    "    'feature_fraction': 0.9,\n",
    "    'num_leaves': 14,\n",
    "    'lambda_l1': 0.1,\n",
    "    'lambda_l2': 1,\n",
    "    'metric': 'multiclass',\n",
    "    'objective': 'multiclass',\n",
    "    'num_classes': 4,\n",
    "    'random_state': 2019\n",
    "}\n",
    "\n",
    "model = lgb.train(params, train_set, num_boost_round=10000, early_stopping_rounds=300, valid_sets=[train_set, val_set], verbose_eval=100)"
   ]
  },
  {
   "cell_type": "code",
   "execution_count": 13,
   "metadata": {},
   "outputs": [
    {
     "name": "stdout",
     "output_type": "stream",
     "text": [
      "              precision    recall  f1-score   support\n",
      "\n",
      "         0.0       0.57      0.51      0.54       636\n",
      "         1.0       0.41      0.03      0.06       349\n",
      "         2.0       0.91      0.03      0.06       307\n",
      "         3.0       0.60      0.90      0.72      1361\n",
      "\n",
      "    accuracy                           0.59      2653\n",
      "   macro avg       0.62      0.37      0.35      2653\n",
      "weighted avg       0.60      0.59      0.51      2653\n",
      "\n"
     ]
    }
   ],
   "source": [
    "val_pred = model.predict(x_val_all).argmax(axis=1)\n",
    "print(classification_report(y_val, val_pred))"
   ]
  },
  {
   "cell_type": "code",
   "execution_count": 14,
   "metadata": {},
   "outputs": [],
   "source": [
    "y_pred = model.predict(x_test_all).argmax(axis=1)\n",
    "test['accuracy_group'] = y_pred\n",
    "test[['installation_id', 'accuracy_group']].to_csv('submission.csv', index=False)"
   ]
  }
 ],
 "metadata": {
  "kernelspec": {
   "display_name": "Python 3",
   "language": "python",
   "name": "python3"
  },
  "language_info": {
   "codemirror_mode": {
    "name": "ipython",
    "version": 3
   },
   "file_extension": ".py",
   "mimetype": "text/x-python",
   "name": "python",
   "nbconvert_exporter": "python",
   "pygments_lexer": "ipython3",
   "version": "3.6.6"
  }
 },
 "nbformat": 4,
 "nbformat_minor": 1
}
