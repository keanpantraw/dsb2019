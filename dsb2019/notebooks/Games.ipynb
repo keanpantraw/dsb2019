{
 "cells": [
  {
   "cell_type": "code",
   "execution_count": 1,
   "metadata": {},
   "outputs": [],
   "source": [
    "import pandas as pd\n",
    "import numpy as np\n",
    "import seaborn as sns\n",
    "from matplotlib import pyplot as plt\n",
    "from functools import reduce\n",
    "import json\n",
    "from IPython.display import display, Markdown"
   ]
  },
  {
   "cell_type": "code",
   "execution_count": 2,
   "metadata": {},
   "outputs": [],
   "source": [
    "sample_submission=pd.read_csv(\"../data/raw/sample_submission.csv\")\n",
    "specs=pd.read_csv(\"../data/raw/specs.csv\")\n",
    "test=pd.read_csv(\"../data/raw/test.csv\")\n",
    "train=pd.read_csv(\"../data/interim/train.csv\")\n",
    "train_labels=pd.read_csv(\"../data/raw/train_labels.csv\")"
   ]
  },
  {
   "cell_type": "markdown",
   "metadata": {},
   "source": [
    "Those games roughly correspond to assessments which should be predicted. Looks like activities are given not for learning, but for relaxation (like fireworks)."
   ]
  },
  {
   "cell_type": "code",
   "execution_count": 3,
   "metadata": {},
   "outputs": [
    {
     "data": {
      "text/plain": [
       "array(['Scrub-A-Dub', 'All Star Sorting', 'Air Show', 'Crystals Rule',\n",
       "       'Dino Drink', 'Bubble Bath', 'Dino Dive', 'Chow Time',\n",
       "       'Pan Balance', 'Happy Camel', 'Leaf Leader'], dtype=object)"
      ]
     },
     "execution_count": 3,
     "metadata": {},
     "output_type": "execute_result"
    }
   ],
   "source": [
    "train.title[train.type==\"Game\"].unique()"
   ]
  },
  {
   "cell_type": "code",
   "execution_count": 4,
   "metadata": {},
   "outputs": [
    {
     "data": {
      "text/plain": [
       "array(['Mushroom Sorter (Assessment)', 'Bird Measurer (Assessment)',\n",
       "       'Cauldron Filler (Assessment)', 'Cart Balancer (Assessment)',\n",
       "       'Chest Sorter (Assessment)'], dtype=object)"
      ]
     },
     "execution_count": 4,
     "metadata": {},
     "output_type": "execute_result"
    }
   ],
   "source": [
    "train.title[train.type==\"Assessment\"].unique()"
   ]
  },
  {
   "cell_type": "code",
   "execution_count": 6,
   "metadata": {},
   "outputs": [
    {
     "data": {
      "text/html": [
       "<div>\n",
       "<style scoped>\n",
       "    .dataframe tbody tr th:only-of-type {\n",
       "        vertical-align: middle;\n",
       "    }\n",
       "\n",
       "    .dataframe tbody tr th {\n",
       "        vertical-align: top;\n",
       "    }\n",
       "\n",
       "    .dataframe thead th {\n",
       "        text-align: right;\n",
       "    }\n",
       "</style>\n",
       "<table border=\"1\" class=\"dataframe\">\n",
       "  <thead>\n",
       "    <tr style=\"text-align: right;\">\n",
       "      <th></th>\n",
       "      <th>game</th>\n",
       "      <th>target</th>\n",
       "      <th>fields</th>\n",
       "      <th>n_games</th>\n",
       "    </tr>\n",
       "  </thead>\n",
       "  <tbody>\n",
       "    <tr>\n",
       "      <th>0</th>\n",
       "      <td>Chow Time</td>\n",
       "      <td>balance the scales</td>\n",
       "      <td>[scale_weight, target_weight, resources, scale_contents]</td>\n",
       "      <td>5804</td>\n",
       "    </tr>\n",
       "    <tr>\n",
       "      <th>3</th>\n",
       "      <td>Scrub-A-Dub</td>\n",
       "      <td>find item with right size for animal several times</td>\n",
       "      <td>[round_target, size]</td>\n",
       "      <td>4202</td>\n",
       "    </tr>\n",
       "    <tr>\n",
       "      <th>1</th>\n",
       "      <td>All Star Sorting</td>\n",
       "      <td>sort dinosaurs by houses</td>\n",
       "      <td>[dinosaurs, houses, dinosaurs_placed]</td>\n",
       "      <td>3819</td>\n",
       "    </tr>\n",
       "    <tr>\n",
       "      <th>5</th>\n",
       "      <td>Dino Drink</td>\n",
       "      <td>match sizes of eggs with holes</td>\n",
       "      <td>[holes]</td>\n",
       "      <td>3418</td>\n",
       "    </tr>\n",
       "    <tr>\n",
       "      <th>7</th>\n",
       "      <td>Bubble Bath</td>\n",
       "      <td>Find container with right size</td>\n",
       "      <td>[target_containers, containers]</td>\n",
       "      <td>3165</td>\n",
       "    </tr>\n",
       "    <tr>\n",
       "      <th>9</th>\n",
       "      <td>Happy Camel</td>\n",
       "      <td>Find bowl with toy using scales</td>\n",
       "      <td>[bowl_id, scale_contents]</td>\n",
       "      <td>3128</td>\n",
       "    </tr>\n",
       "    <tr>\n",
       "      <th>2</th>\n",
       "      <td>Dino Dive</td>\n",
       "      <td>select dinosaur(s) which raises water in pool to given level (memory + measure)</td>\n",
       "      <td>[target_level, target_water_level]</td>\n",
       "      <td>3066</td>\n",
       "    </tr>\n",
       "    <tr>\n",
       "      <th>6</th>\n",
       "      <td>Air Show</td>\n",
       "      <td>Move dinousaur N spaces (into target_distances)</td>\n",
       "      <td>[distance, target_distances]</td>\n",
       "      <td>2876</td>\n",
       "    </tr>\n",
       "    <tr>\n",
       "      <th>10</th>\n",
       "      <td>Leaf Leader</td>\n",
       "      <td>Balance scales</td>\n",
       "      <td>[target_weight, weight]</td>\n",
       "      <td>2831</td>\n",
       "    </tr>\n",
       "    <tr>\n",
       "      <th>4</th>\n",
       "      <td>Pan Balance</td>\n",
       "      <td>Balance weights</td>\n",
       "      <td>[target_weight, weights]</td>\n",
       "      <td>2806</td>\n",
       "    </tr>\n",
       "    <tr>\n",
       "      <th>8</th>\n",
       "      <td>Crystals Rule</td>\n",
       "      <td>Measure things</td>\n",
       "      <td>[group, target_size]</td>\n",
       "      <td>2672</td>\n",
       "    </tr>\n",
       "  </tbody>\n",
       "</table>\n",
       "</div>"
      ],
      "text/plain": [
       "                game  \\\n",
       "0          Chow Time   \n",
       "3        Scrub-A-Dub   \n",
       "1   All Star Sorting   \n",
       "5         Dino Drink   \n",
       "7        Bubble Bath   \n",
       "9        Happy Camel   \n",
       "2          Dino Dive   \n",
       "6           Air Show   \n",
       "10       Leaf Leader   \n",
       "4        Pan Balance   \n",
       "8      Crystals Rule   \n",
       "\n",
       "                                                                             target  \\\n",
       "0                                                                balance the scales   \n",
       "3                                find item with right size for animal several times   \n",
       "1                                                          sort dinosaurs by houses   \n",
       "5                                                    match sizes of eggs with holes   \n",
       "7                                                    Find container with right size   \n",
       "9                                                   Find bowl with toy using scales   \n",
       "2   select dinosaur(s) which raises water in pool to given level (memory + measure)   \n",
       "6                                   Move dinousaur N spaces (into target_distances)   \n",
       "10                                                                   Balance scales   \n",
       "4                                                                   Balance weights   \n",
       "8                                                                    Measure things   \n",
       "\n",
       "                                                      fields  n_games  \n",
       "0   [scale_weight, target_weight, resources, scale_contents]     5804  \n",
       "3                                       [round_target, size]     4202  \n",
       "1                      [dinosaurs, houses, dinosaurs_placed]     3819  \n",
       "5                                                    [holes]     3418  \n",
       "7                            [target_containers, containers]     3165  \n",
       "9                                  [bowl_id, scale_contents]     3128  \n",
       "2                         [target_level, target_water_level]     3066  \n",
       "6                               [distance, target_distances]     2876  \n",
       "10                                   [target_weight, weight]     2831  \n",
       "4                                   [target_weight, weights]     2806  \n",
       "8                                       [group, target_size]     2672  "
      ]
     },
     "execution_count": 6,
     "metadata": {},
     "output_type": "execute_result"
    }
   ],
   "source": [
    "pd.options.display.max_colwidth=999\n",
    "games_description=pd.DataFrame(data=[\n",
    "    {\"game\": \"Chow Time\", \"target\": \"balance the scales\", \n",
    "    \"fields\": [\"scale_weight\", \"target_weight\", \"resources\", \"scale_contents\"]},\n",
    "    {\"game\": \"All Star Sorting\", \"target\": \"sort dinosaurs by houses\",\n",
    "    \"fields\": [\"dinosaurs\", \"houses\", \"dinosaurs_placed\"]},\n",
    "    {\"game\": \"Dino Dive\", \"target\": \"select dinosaur(s) which raises water in pool to given level (memory + measure)\", \n",
    "     \"fields\":[\"target_level\", \"target_water_level\"]},\n",
    "    {\"game\": \"Scrub-A-Dub\", \"target\": \"find item with right size for animal several times\", \n",
    "     \"fields\": [\"round_target\", \"size\"]},\n",
    "    {\"game\": \"Pan Balance\", \"target\": \"Balance weights\",\n",
    "     \"fields\": [\"target_weight\", \"weights\"]},\n",
    "    {\"game\": \"Dino Drink\", \"target\": \"match sizes of eggs with holes\",\n",
    "    \"fields\": [\"holes\"]},\n",
    "    {\"game\": \"Air Show\", \"target\": \"Move dinousaur N spaces (into target_distances)\", \n",
    "    \"fields\": [\"distance\", \"target_distances\"]},\n",
    "    {\"game\": \"Bubble Bath\", \"target\": \"Find container with right size\", \n",
    "    \"fields\": [\"target_containers\", \"containers\"]},\n",
    "    {\"game\": \"Crystals Rule\", \"target\": \"Measure things\",\n",
    "    \"fields\": [\"group\", \"target_size\"]},\n",
    "    {\"game\": \"Happy Camel\", \"target\": \"Find bowl with toy using scales\", \n",
    "     \"fields\": [\"bowl_id\", \"scale_contents\"]},\n",
    "    {\"game\": \"Leaf Leader\", \"target\": \"Balance scales\",\n",
    "     \"fields\": [\"target_weight\", \"weight\"]},\n",
    "    \n",
    "])\n",
    "game_count=train[train.type==\"Game\"].groupby(\"title\")[\"game_session\"].nunique().reset_index(name=\"n_games\")\n",
    "game_count.columns=[\"game\", \"n_games\"]\n",
    "pd.merge(games_description, game_count, on=\"game\").sort_values(\"n_games\", ascending=False)"
   ]
  },
  {
   "cell_type": "code",
   "execution_count": 6,
   "metadata": {},
   "outputs": [
    {
     "data": {
      "text/html": [
       "<div>\n",
       "<style scoped>\n",
       "    .dataframe tbody tr th:only-of-type {\n",
       "        vertical-align: middle;\n",
       "    }\n",
       "\n",
       "    .dataframe tbody tr th {\n",
       "        vertical-align: top;\n",
       "    }\n",
       "\n",
       "    .dataframe thead th {\n",
       "        text-align: right;\n",
       "    }\n",
       "</style>\n",
       "<table border=\"1\" class=\"dataframe\">\n",
       "  <thead>\n",
       "    <tr style=\"text-align: right;\">\n",
       "      <th></th>\n",
       "      <th>game</th>\n",
       "      <th>target</th>\n",
       "      <th>fields</th>\n",
       "    </tr>\n",
       "  </thead>\n",
       "  <tbody>\n",
       "    <tr>\n",
       "      <th>0</th>\n",
       "      <td>Mushroom Sorter (Assessment)</td>\n",
       "      <td>Sort 3 mushrooms</td>\n",
       "      <td>[stumps]</td>\n",
       "    </tr>\n",
       "    <tr>\n",
       "      <th>1</th>\n",
       "      <td>Bird Measurer (Assessment)</td>\n",
       "      <td>Measure 3 birds height</td>\n",
       "      <td>[bird_height, caterpillar, caterpillars]</td>\n",
       "    </tr>\n",
       "    <tr>\n",
       "      <th>2</th>\n",
       "      <td>Cauldron Filler (Assessment)</td>\n",
       "      <td>Match buckets with cauldrons, then choose right bucket</td>\n",
       "      <td>[bucket, cauldron, target_bucket]</td>\n",
       "    </tr>\n",
       "    <tr>\n",
       "      <th>3</th>\n",
       "      <td>Cart Balancer (Assessment)</td>\n",
       "      <td>Balance scales</td>\n",
       "      <td>[crystals, left, right]</td>\n",
       "    </tr>\n",
       "    <tr>\n",
       "      <th>4</th>\n",
       "      <td>Chest Sorter (Assessment)</td>\n",
       "      <td>Order chests using pan balance</td>\n",
       "      <td>[left, right, pillars]</td>\n",
       "    </tr>\n",
       "  </tbody>\n",
       "</table>\n",
       "</div>"
      ],
      "text/plain": [
       "                           game  \\\n",
       "0  Mushroom Sorter (Assessment)   \n",
       "1    Bird Measurer (Assessment)   \n",
       "2  Cauldron Filler (Assessment)   \n",
       "3    Cart Balancer (Assessment)   \n",
       "4     Chest Sorter (Assessment)   \n",
       "\n",
       "                                                   target  \\\n",
       "0                                        Sort 3 mushrooms   \n",
       "1                                  Measure 3 birds height   \n",
       "2  Match buckets with cauldrons, then choose right bucket   \n",
       "3                                          Balance scales   \n",
       "4                          Order chests using pan balance   \n",
       "\n",
       "                                     fields  \n",
       "0                                  [stumps]  \n",
       "1  [bird_height, caterpillar, caterpillars]  \n",
       "2         [bucket, cauldron, target_bucket]  \n",
       "3                   [crystals, left, right]  \n",
       "4                    [left, right, pillars]  "
      ]
     },
     "execution_count": 6,
     "metadata": {},
     "output_type": "execute_result"
    }
   ],
   "source": [
    "assessment_description=pd.DataFrame(data=[\n",
    "    {\"game\": \"Mushroom Sorter (Assessment)\", \"target\": \"Sort 3 mushrooms\",\n",
    "     \"fields\": [\"stumps\"]},\n",
    "    {\"game\": \"Bird Measurer (Assessment)\", \"target\": \"Measure 3 birds height\",\n",
    "     \"fields\": [\"bird_height\", \"caterpillar\", \"caterpillars\"]},\n",
    "    {\"game\": \"Cauldron Filler (Assessment)\", \"target\": \"Match buckets with cauldrons, then choose right bucket\",\n",
    "     \"fields\": [\"bucket\", \"cauldron\", \"target_bucket\"]},\n",
    "    {\"game\": \"Cart Balancer (Assessment)\", \"target\": \"Balance scales\", \n",
    "     \"fields\": [\"crystals\", \"left\", \"right\"]},\n",
    "    {\"game\": \"Chest Sorter (Assessment)\", \"target\": \"Order chests using pan balance\",\n",
    "     \"fields\": [\"left\", \"right\", \"pillars\"]}\n",
    "])\n",
    "assessment_description"
   ]
  },
  {
   "cell_type": "code",
   "execution_count": 7,
   "metadata": {},
   "outputs": [],
   "source": [
    "def show_game_session(df, title, filter_cols=tuple()):\n",
    "    random_row = df[df.title == title].sample(1)\n",
    "    installation_id = random_row.installation_id.iloc[0]\n",
    "    session_id = random_row.game_session.iloc[0]\n",
    "    show_player_sessions(df, installation_id, session_id, filter_cols)\n",
    "\n",
    "\n",
    "def show_player_sessions(df, installation_id, session_id=None, filter_cols=tuple()):\n",
    "    df = df[df.installation_id == installation_id].copy()\n",
    "    game_sessions = [session_id] if session_id else df.game_session.unique()\n",
    "    for game_session in game_sessions:\n",
    "        session = df[df.game_session==game_session].copy()\n",
    "        display(Markdown(describe_session(game_session, session)))\n",
    "        with pd.option_context('display.max_rows', 999, 'display.max_columns', 999, \n",
    "                               'display.max_colwidth', 999):\n",
    "            display(format_session(session, filter_cols))\n",
    "\n",
    "\n",
    "def describe_session(game_session, session):\n",
    "    head = session.sort_values(\"event_count\").head(1)\n",
    "    if \"version\" in json.loads(head.event_data.iloc[0]):\n",
    "        version = json.loads(head.event_data.iloc[0])[\"version\"]\n",
    "    else:\n",
    "        version = \"-\"\n",
    "    return f\"__{game_session} {head.title.iloc[0]} {head.type.iloc[0]} {head.world.iloc[0]} v{version}__ \"\n",
    "\n",
    "\n",
    "def format_session(session, filter_cols):\n",
    "    session = session.sort_values(\"event_count\")\n",
    "    session[\"timestamp\"]=session[\"timestamp\"].str[:19]\n",
    "    session[\"event_data\"] = session.event_data.apply(json.loads)\n",
    "    columns = sorted(reduce(set.__or__, session.event_data.apply(lambda d: set(d.keys())).values))\n",
    "    for c in columns:\n",
    "        session[c] = session.event_data.apply(lambda x: x.get(c, '-'))\n",
    "    session[\"version\"]=None\n",
    "    session = session.drop([\"game_session\", \"installation_id\", \"event_data\", \"game_time\", \n",
    "                            \"title\", \"type\", \"world\", \"version\"] + [c for c in filter_cols if c in session.columns], axis=1)\n",
    "    session.set_index(\"event_count\", inplace=True)\n",
    "    \n",
    "    return session\n",
    "\n",
    "\n",
    "#for game in set(train.title[train.type==\"Game\"].unique()):\n",
    "#    show_game_session(train, game, [\"coordinates\"])"
   ]
  },
  {
   "cell_type": "code",
   "execution_count": 8,
   "metadata": {},
   "outputs": [],
   "source": [
    "#for game in set(test.title[test.type==\"Assessment\"].unique())-set(assessment_description.game.values):\n",
    "#    show_game_session(train, game, [\"coordinates\"])"
   ]
  },
  {
   "cell_type": "code",
   "execution_count": 43,
   "metadata": {},
   "outputs": [
    {
     "data": {
      "text/plain": [
       "array(['Welcome to Lost Lagoon!', 'Magma Peak - Level 1', 'Slop Problem',\n",
       "       'Tree Top City - Level 1', 'Ordering Spheres', 'Costume Box',\n",
       "       '12 Monkeys', 'Tree Top City - Level 2', \"Pirate's Tale\",\n",
       "       'Treasure Map', 'Tree Top City - Level 3', 'Rulers',\n",
       "       'Magma Peak - Level 2', 'Crystal Caves - Level 1', 'Balancing Act',\n",
       "       'Crystal Caves - Level 2', 'Crystal Caves - Level 3',\n",
       "       'Lifting Heavy Things', 'Honey Cake', 'Heavy, Heavier, Heaviest'],\n",
       "      dtype=object)"
      ]
     },
     "execution_count": 43,
     "metadata": {},
     "output_type": "execute_result"
    }
   ],
   "source": [
    "train[train.type==\"Clip\"].title.unique()"
   ]
  },
  {
   "cell_type": "code",
   "execution_count": 47,
   "metadata": {},
   "outputs": [
    {
     "data": {
      "text/markdown": [
       "__2ddf0e66cd96bba7 Crystal Caves - Level 3 Clip CRYSTALCAVES v-__ "
      ],
      "text/plain": [
       "<IPython.core.display.Markdown object>"
      ]
     },
     "metadata": {},
     "output_type": "display_data"
    },
    {
     "data": {
      "text/html": [
       "<div>\n",
       "<style scoped>\n",
       "    .dataframe tbody tr th:only-of-type {\n",
       "        vertical-align: middle;\n",
       "    }\n",
       "\n",
       "    .dataframe tbody tr th {\n",
       "        vertical-align: top;\n",
       "    }\n",
       "\n",
       "    .dataframe thead th {\n",
       "        text-align: right;\n",
       "    }\n",
       "</style>\n",
       "<table border=\"1\" class=\"dataframe\">\n",
       "  <thead>\n",
       "    <tr style=\"text-align: right;\">\n",
       "      <th></th>\n",
       "      <th>Unnamed: 1</th>\n",
       "      <th>event_id</th>\n",
       "      <th>timestamp</th>\n",
       "      <th>event_code</th>\n",
       "      <th>index</th>\n",
       "    </tr>\n",
       "    <tr>\n",
       "      <th>event_count</th>\n",
       "      <th></th>\n",
       "      <th></th>\n",
       "      <th></th>\n",
       "      <th></th>\n",
       "      <th></th>\n",
       "    </tr>\n",
       "  </thead>\n",
       "  <tbody>\n",
       "    <tr>\n",
       "      <th>1</th>\n",
       "      <td>15</td>\n",
       "      <td>27253bdc</td>\n",
       "      <td>2019-08-31T01:23:46</td>\n",
       "      <td>2000</td>\n",
       "      <td>10535839.0</td>\n",
       "    </tr>\n",
       "  </tbody>\n",
       "</table>\n",
       "</div>"
      ],
      "text/plain": [
       "             Unnamed: 1  event_id            timestamp  event_code       index\n",
       "event_count                                                                   \n",
       "1                    15  27253bdc  2019-08-31T01:23:46        2000  10535839.0"
      ]
     },
     "metadata": {},
     "output_type": "display_data"
    }
   ],
   "source": [
    "pd.options.display.max_rows=1200\n",
    "show_game_session(train, 'Crystal Caves - Level 3', [\"coordinates\"])"
   ]
  }
 ],
 "metadata": {
  "kernelspec": {
   "display_name": "Python 3",
   "language": "python",
   "name": "python3"
  },
  "language_info": {
   "codemirror_mode": {
    "name": "ipython",
    "version": 3
   },
   "file_extension": ".py",
   "mimetype": "text/x-python",
   "name": "python",
   "nbconvert_exporter": "python",
   "pygments_lexer": "ipython3",
   "version": "3.6.6"
  }
 },
 "nbformat": 4,
 "nbformat_minor": 4
}
